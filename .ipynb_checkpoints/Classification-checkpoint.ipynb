{
 "cells": [
  {
   "cell_type": "markdown",
   "metadata": {},
   "source": [
    "# Image Data Loading and Visualization\n",
    "## Data loading functions"
   ]
  },
  {
   "cell_type": "code",
   "execution_count": 1,
   "metadata": {},
   "outputs": [
    {
     "name": "stderr",
     "output_type": "stream",
     "text": [
      "Using TensorFlow backend.\n"
     ]
    }
   ],
   "source": [
    "from keras.utils.np_utils import to_categorical\n",
    "import pandas as pd\n",
    "import numpy as np\n",
    "import random\n",
    "import sys\n",
    "import warnings \n",
    "warnings.filterwarnings('ignore')\n",
    "\n",
    "import matplotlib.pyplot as plt\n",
    "%matplotlib inline\n",
    "\n",
    "import brewer2mpl\n",
    "\n",
    "def emotion_count(y_train, classes):\n",
    "    \"\"\"\n",
    "    The function re-classify picture with disgust label into angry label\n",
    "    \"\"\"\n",
    "    emo_classcount = {}\n",
    "    print ('Disgust classified as Angry')\n",
    "    y_train.loc[y_train == 1] = 0\n",
    "    classes.remove('Disgust')\n",
    "    for new_num, _class in enumerate(classes):\n",
    "        y_train.loc[(y_train == emotion[_class])] = new_num\n",
    "        class_count = sum(y_train == (new_num))\n",
    "        emo_classcount[_class] = (new_num, class_count)\n",
    "    return y_train.values, emo_classcount\n",
    "\n",
    "def load_data(usage='Training',classes=['Angry','Happy'], filepath='fer20131.csv'):\n",
    "    \"\"\"\n",
    "    The function load provided CSV dataset and further reshape, rescale the data for feeding\n",
    "    \"\"\"\n",
    "    df = pd.read_csv(filepath)\n",
    "    df = df[df.Usage == usage]\n",
    "    frames = []\n",
    "    classes.append('Disgust')\n",
    "    for _class in classes:\n",
    "        class_df = df[df['emotion'] == emotion[_class]]\n",
    "        frames.append(class_df)\n",
    "    data = pd.concat(frames, axis=0)\n",
    "    rows = random.sample(list(data.index), int(len(data)))\n",
    "    data = data.loc[rows]\n",
    "    x = list(data[\"pixels\"])\n",
    "    X = []\n",
    "    for i in range(len(x)):\n",
    "        each_pixel = [int(num) for num in x[i].split()]\n",
    "        X.append(each_pixel)\n",
    "    X = np.array(X)\n",
    "    X = X.reshape(X.shape[0], 48, 48,1)\n",
    "    X = X.astype(\"float32\")\n",
    "    X /= 255\n",
    "    \n",
    "    y_train, new_dict = emotion_count(data.emotion, classes)\n",
    "    y_train = to_categorical(y_train)\n",
    "    return X, y_train"
   ]
  },
  {
   "cell_type": "markdown",
   "metadata": {},
   "source": [
    "## Specify our label conversion and load data"
   ]
  },
  {
   "cell_type": "code",
   "execution_count": 2,
   "metadata": {},
   "outputs": [
    {
     "name": "stdout",
     "output_type": "stream",
     "text": [
      "Disgust classified as Angry\n",
      "Disgust classified as Angry\n",
      "Disgust classified as Angry\n"
     ]
    }
   ],
   "source": [
    "emotion = {'Angry': 0, 'Disgust': 1, 'Fear': 2, 'Happy': 3,\n",
    "           'Sad': 4, 'Surprise': 5, 'Neutral': 6}\n",
    "emo     = ['Angry', 'Fear', 'Happy',\n",
    "           'Sad', 'Surprise', 'Neutral']\n",
    "\n",
    "file_path = 'fer2013-1.csv'\n",
    "\n",
    "X_test, y_test = load_data(classes=emo, usage='PrivateTest', filepath=file_path)\n",
    "X_train, y_train = load_data(classes=emo, usage='Training', filepath=file_path)\n",
    "X_val,y_val = load_data(classes=emo, usage='PublicTest', filepath=file_path)"
   ]
  },
  {
   "cell_type": "markdown",
   "metadata": {},
   "source": [
    "## Count samples in each label category"
   ]
  },
  {
   "cell_type": "code",
   "execution_count": 3,
   "metadata": {},
   "outputs": [
    {
     "name": "stdout",
     "output_type": "stream",
     "text": [
      "Private test set\n",
      "['angry', 'fear', 'happy', 'sad', 'surprise', 'neutral']\n",
      "[545 527 879 593 415 624]\n"
     ]
    }
   ],
   "source": [
    "X_fname = 'X_test_privatetest6_100pct.npy'\n",
    "y_fname = 'y_test_privatetest6_100pct.npy'\n",
    "X = np.load(X_fname)\n",
    "y = np.load(y_fname)\n",
    "print ('Private test set')\n",
    "y_labels = [np.argmax(lst) for lst in y]\n",
    "counts = np.bincount(y_labels)\n",
    "labels = ['angry', 'fear', 'happy', 'sad', 'surprise', 'neutral']\n",
    "print (labels)\n",
    "print (counts)"
   ]
  },
  {
   "cell_type": "markdown",
   "metadata": {},
   "source": [
    "## Plot one image with size"
   ]
  },
  {
   "cell_type": "code",
   "execution_count": 4,
   "metadata": {},
   "outputs": [
    {
     "name": "stdout",
     "output_type": "stream",
     "text": [
      "(1, 48, 48, 1)\n"
     ]
    },
    {
     "data": {
      "image/png": "[encoded data removed]",
      "text/plain": [
       "<Figure size 432x288 with 1 Axes>"
      ]
     },
     "metadata": {
      "needs_background": "light"
     },
     "output_type": "display_data"
    }
   ],
   "source": [
    "input_img = X[6:7,:,:,:] \n",
    "print (input_img.shape)\n",
    "plt.imshow(input_img[0,:,:,0], cmap='gray')\n",
    "plt.show()"
   ]
  },
  {
   "cell_type": "markdown",
   "metadata": {},
   "source": [
    "## Set up variables for processing"
   ]
  },
  {
   "cell_type": "code",
   "execution_count": 5,
   "metadata": {},
   "outputs": [],
   "source": [
    "y_train = y_train \n",
    "y_public = y_val \n",
    "y_private = y_test \n",
    "y_train_labels  = [np.argmax(lst) for lst in y_train]\n",
    "y_public_labels = [np.argmax(lst) for lst in y_public]\n",
    "y_private_labels = [np.argmax(lst) for lst in y_private]"
   ]
  },
  {
   "cell_type": "markdown",
   "metadata": {},
   "source": [
    "## Import scikit-learn functions for classification"
   ]
  },
  {
   "cell_type": "code",
   "execution_count": 6,
   "metadata": {},
   "outputs": [],
   "source": [
    "from sklearn.metrics import accuracy_score, log_loss\n",
    "from sklearn.neighbors import KNeighborsClassifier\n",
    "from sklearn.svm import SVC, LinearSVC, NuSVC\n",
    "from sklearn.tree import DecisionTreeClassifier\n",
    "from sklearn.ensemble import RandomForestClassifier, AdaBoostClassifier, GradientBoostingClassifier\n",
    "from sklearn.naive_bayes import GaussianNB\n",
    "from sklearn.discriminant_analysis import LinearDiscriminantAnalysis\n",
    "from sklearn.discriminant_analysis import QuadraticDiscriminantAnalysis\n",
    "from sklearn.linear_model import LogisticRegression\n",
    "from sklearn.ensemble import RandomForestClassifier\n",
    "from sklearn.preprocessing import FunctionTransformer, Normalizer\n",
    "from sklearn.pipeline import make_pipeline"
   ]
  },
  {
   "cell_type": "markdown",
   "metadata": {},
   "source": [
    "## Initialize classifier for training"
   ]
  },
  {
   "cell_type": "code",
   "execution_count": 16,
   "metadata": {
    "scrolled": true
   },
   "outputs": [],
   "source": [
    "full_pipeline = make_pipeline(\n",
    "    FunctionTransformer(lambda x: x.reshape((x.shape[0],-1)), validate = False), \n",
    "    Normalizer(),\n",
    "    ######### TODO: Put your classifier name ######\n",
    "\n",
    "    ###############################################\n",
    "\n",
    ")"
   ]
  },
  {
   "cell_type": "markdown",
   "metadata": {},
   "source": [
    "## Prepare label data and train classifier"
   ]
  },
  {
   "cell_type": "code",
   "execution_count": 17,
   "metadata": {},
   "outputs": [
    {
     "name": "stdout",
     "output_type": "stream",
     "text": [
      "[[1. 0. 0. 0. 0. 0.]\n",
      " [0. 0. 1. 0. 0. 0.]\n",
      " [0. 0. 1. 0. 0. 0.]\n",
      " ...\n",
      " [0. 0. 1. 0. 0. 0.]\n",
      " [0. 1. 0. 0. 0. 0.]\n",
      " [0. 1. 0. 0. 0. 0.]] [[1. 0. 0. 0. 0. 0.]\n",
      " [0. 0. 1. 0. 0. 0.]\n",
      " [0. 0. 0. 1. 0. 0.]\n",
      " ...\n",
      " [0. 0. 0. 0. 0. 1.]\n",
      " [1. 0. 0. 0. 0. 0.]\n",
      " [0. 0. 0. 0. 1. 0.]]\n",
      "[0 2 2 ... 2 1 1] [0 2 3 ... 5 0 4]\n",
      "CPU times: user 5.42 s, sys: 245 ms, total: 5.67 s\n",
      "Wall time: 5.52 s\n"
     ]
    },
    {
     "data": {
      "text/plain": [
       "Pipeline(memory=None,\n",
       "         steps=[('functiontransformer',\n",
       "                 FunctionTransformer(accept_sparse=False, check_inverse=True,\n",
       "                                     func=<function <lambda> at 0xb38ce72f0>,\n",
       "                                     inv_kw_args=None, inverse_func=None,\n",
       "                                     kw_args=None, pass_y='deprecated',\n",
       "                                     validate=False)),\n",
       "                ('normalizer', Normalizer(copy=True, norm='l2')),\n",
       "                ('kneighborsclassifier',\n",
       "                 KNeighborsClassifier(algorithm='auto', leaf_size=30,\n",
       "                                      metric='minkowski', metric_params=None,\n",
       "                                      n_jobs=None, n_neighbors=3, p=2,\n",
       "                                      weights='uniform'))],\n",
       "         verbose=False)"
      ]
     },
     "execution_count": 17,
     "metadata": {},
     "output_type": "execute_result"
    }
   ],
   "source": [
    "%%time\n",
    "print(y_train, y_test)\n",
    "###### Change y_train and y_test data from binary to integer array\n",
    "###### Hint: create y_train_cat and y_test_cat variables #########\n",
    "\n",
    "\n",
    "##################################################################\n",
    "print(y_train_cat, y_test_cat)\n",
    "full_pipeline.fit(X_train, y_train_cat)"
   ]
  },
  {
   "cell_type": "markdown",
   "metadata": {},
   "source": [
    "## Make classifier predictions on new data"
   ]
  },
  {
   "cell_type": "code",
   "execution_count": 18,
   "metadata": {},
   "outputs": [
    {
     "name": "stdout",
     "output_type": "stream",
     "text": [
      "CPU times: user 32min 32s, sys: 4.92 s, total: 32min 37s\n",
      "Wall time: 1h 4min 57s\n"
     ]
    }
   ],
   "source": [
    "%%time\n",
    "y_train_pred = full_pipeline.predict(X_train)\n",
    "y_pred = full_pipeline.predict(X_test)"
   ]
  },
  {
   "cell_type": "markdown",
   "metadata": {},
   "source": [
    "## Import scikit-learn functions for analyzing results"
   ]
  },
  {
   "cell_type": "code",
   "execution_count": 13,
   "metadata": {},
   "outputs": [],
   "source": [
    "from sklearn.metrics import classification_report, classification"
   ]
  },
  {
   "cell_type": "markdown",
   "metadata": {},
   "source": [
    "## Plot confusion matrices of results"
   ]
  },
  {
   "cell_type": "code",
   "execution_count": 14,
   "metadata": {},
   "outputs": [
    {
     "ename": "NameError",
     "evalue": "name 'y_pred' is not defined",
     "output_type": "error",
     "traceback": [
      "\u001b[0;31m---------------------------------------------------------------------------\u001b[0m",
      "\u001b[0;31mNameError\u001b[0m                                 Traceback (most recent call last)",
      "\u001b[0;32m<ipython-input-14-df49ed5c9fe2>\u001b[0m in \u001b[0;36m<module>\u001b[0;34m\u001b[0m\n\u001b[1;32m      1\u001b[0m \u001b[0mfig\u001b[0m\u001b[0;34m,\u001b[0m \u001b[0;34m(\u001b[0m\u001b[0max1\u001b[0m\u001b[0;34m,\u001b[0m \u001b[0max2\u001b[0m\u001b[0;34m)\u001b[0m \u001b[0;34m=\u001b[0m \u001b[0mplt\u001b[0m\u001b[0;34m.\u001b[0m\u001b[0msubplots\u001b[0m\u001b[0;34m(\u001b[0m\u001b[0;36m1\u001b[0m\u001b[0;34m,\u001b[0m \u001b[0;36m2\u001b[0m\u001b[0;34m,\u001b[0m \u001b[0mfigsize\u001b[0m \u001b[0;34m=\u001b[0m \u001b[0;34m(\u001b[0m\u001b[0;36m12\u001b[0m\u001b[0;34m,\u001b[0m \u001b[0;36m6\u001b[0m\u001b[0;34m)\u001b[0m\u001b[0;34m)\u001b[0m\u001b[0;34m\u001b[0m\u001b[0;34m\u001b[0m\u001b[0m\n\u001b[1;32m      2\u001b[0m \u001b[0mcm_train\u001b[0m \u001b[0;34m=\u001b[0m \u001b[0mclassification\u001b[0m\u001b[0;34m.\u001b[0m\u001b[0mconfusion_matrix\u001b[0m\u001b[0;34m(\u001b[0m\u001b[0my_train_cat\u001b[0m\u001b[0;34m,\u001b[0m \u001b[0my_train_pred\u001b[0m\u001b[0;34m)\u001b[0m\u001b[0;34m\u001b[0m\u001b[0;34m\u001b[0m\u001b[0m\n\u001b[0;32m----> 3\u001b[0;31m \u001b[0mcm_test\u001b[0m \u001b[0;34m=\u001b[0m \u001b[0mclassification\u001b[0m\u001b[0;34m.\u001b[0m\u001b[0mconfusion_matrix\u001b[0m\u001b[0;34m(\u001b[0m\u001b[0my_test_cat\u001b[0m\u001b[0;34m,\u001b[0m \u001b[0my_pred\u001b[0m\u001b[0;34m)\u001b[0m\u001b[0;34m\u001b[0m\u001b[0;34m\u001b[0m\u001b[0m\n\u001b[0m\u001b[1;32m      4\u001b[0m \u001b[0max1\u001b[0m\u001b[0;34m.\u001b[0m\u001b[0mmatshow\u001b[0m\u001b[0;34m(\u001b[0m\u001b[0mcm_train\u001b[0m\u001b[0;34m)\u001b[0m\u001b[0;34m\u001b[0m\u001b[0;34m\u001b[0m\u001b[0m\n\u001b[1;32m      5\u001b[0m \u001b[0max1\u001b[0m\u001b[0;34m.\u001b[0m\u001b[0mset_title\u001b[0m\u001b[0;34m(\u001b[0m\u001b[0;34m'Training Results'\u001b[0m\u001b[0;34m)\u001b[0m\u001b[0;34m\u001b[0m\u001b[0;34m\u001b[0m\u001b[0m\n",
      "\u001b[0;31mNameError\u001b[0m: name 'y_pred' is not defined"
     ]
    },
    {
     "data": {
      "image/png": "[encoded data removed]",
      "text/plain": [
       "<Figure size 864x432 with 2 Axes>"
      ]
     },
     "metadata": {
      "needs_background": "light"
     },
     "output_type": "display_data"
    }
   ],
   "source": [
    "fig, (ax1, ax2) = plt.subplots(1, 2, figsize = (12, 6))\n",
    "cm_train = classification.confusion_matrix(y_train_cat, y_train_pred)\n",
    "cm_test = classification.confusion_matrix(y_test_cat, y_pred)\n",
    "ax1.matshow(cm_train)\n",
    "ax1.set_title('Training Results')\n",
    "ax2.matshow(cm_test)\n",
    "ax2.set_title('Validation Results')\n",
    "\n",
    "for (i,j), z in np.ndenumerate(cm_train):\n",
    "    ax1.text(j, i, '{:d}'.format(z), ha='center', va='center', \n",
    "             color='white', fontsize='large')\n",
    "for (i,j), z in np.ndenumerate(cm_test):\n",
    "    ax2.text(j, i, '{:d}'.format(z), ha='center', va='center', \n",
    "             color='white', fontsize='large')"
   ]
  },
  {
   "cell_type": "markdown",
   "metadata": {},
   "source": [
    "## Print classification performance"
   ]
  },
  {
   "cell_type": "code",
   "execution_count": null,
   "metadata": {},
   "outputs": [],
   "source": [
    "print(classification_report(y_test_cat, y_pred))"
   ]
  },
  {
   "cell_type": "markdown",
   "metadata": {},
   "source": [
    "## Get a list of true class labels"
   ]
  },
  {
   "cell_type": "code",
   "execution_count": null,
   "metadata": {},
   "outputs": [],
   "source": [
    "print(y_test)\n",
    "\n",
    "label_correct = list()\n",
    "############ create a list of correct labels as emotions\n",
    "\n",
    "\n",
    "\n",
    "\n",
    "\n",
    "\n",
    "########################################################\n",
    "print(label_correct)"
   ]
  },
  {
   "cell_type": "markdown",
   "metadata": {},
   "source": [
    "## Get a list of predicted class labels"
   ]
  },
  {
   "cell_type": "code",
   "execution_count": null,
   "metadata": {},
   "outputs": [],
   "source": [
    "print(y_train_pred)\n",
    "Label_pred = list()\n",
    "for i in y_train_pred:\n",
    "    Label_pred.append(emo[i])"
   ]
  },
  {
   "cell_type": "markdown",
   "metadata": {},
   "source": [
    "## Plot images with true and predicted labels"
   ]
  },
  {
   "cell_type": "code",
   "execution_count": null,
   "metadata": {},
   "outputs": [],
   "source": [
    "fig, m_ax = plt.subplots(4, 4, figsize = (20, 20))\n",
    "########### Print images with predicted and actual emotion labels ####################\n",
    "\n",
    "\n",
    "\n",
    "\n",
    "######################################################################################"
   ]
  },
  {
   "cell_type": "code",
   "execution_count": null,
   "metadata": {},
   "outputs": [],
   "source": []
  }
 ],
 "metadata": {
  "kernelspec": {
   "display_name": "Python 3",
   "language": "python",
   "name": "python3"
  },
  "language_info": {
   "codemirror_mode": {
    "name": "ipython",
    "version": 3
   },
   "file_extension": ".py",
   "mimetype": "text/x-python",
   "name": "python",
   "nbconvert_exporter": "python",
   "pygments_lexer": "ipython3",
   "version": "3.7.1"
  }
 },
 "nbformat": 4,
 "nbformat_minor": 2
}
