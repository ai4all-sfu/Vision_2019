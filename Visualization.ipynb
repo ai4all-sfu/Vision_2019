{
 "cells": [
  {
   "cell_type": "code",
   "execution_count": 5,
   "metadata": {},
   "outputs": [
    {
     "ename": "NameError",
     "evalue": "name 'classes' is not defined",
     "output_type": "error",
     "traceback": [
      "\u001b[0;31m---------------------------------------------------------------------------\u001b[0m",
      "\u001b[0;31mNameError\u001b[0m                                 Traceback (most recent call last)",
      "\u001b[0;32m<ipython-input-5-45fb54523ce1>\u001b[0m in \u001b[0;36m<module>\u001b[0;34m()\u001b[0m\n\u001b[1;32m     32\u001b[0m \u001b[0;34m\u001b[0m\u001b[0m\n\u001b[1;32m     33\u001b[0m \u001b[0;34m\u001b[0m\u001b[0m\n\u001b[0;32m---> 34\u001b[0;31m \u001b[0mprint\u001b[0m\u001b[0;34m(\u001b[0m\u001b[0mclasses\u001b[0m\u001b[0;34m)\u001b[0m\u001b[0;34m\u001b[0m\u001b[0m\n\u001b[0m\u001b[1;32m     35\u001b[0m \u001b[0;34m\u001b[0m\u001b[0m\n\u001b[1;32m     36\u001b[0m \u001b[0;32mdef\u001b[0m \u001b[0mload_data\u001b[0m\u001b[0;34m(\u001b[0m\u001b[0musage\u001b[0m\u001b[0;34m=\u001b[0m\u001b[0;34m'Training'\u001b[0m\u001b[0;34m,\u001b[0m\u001b[0mclasses\u001b[0m\u001b[0;34m=\u001b[0m\u001b[0;34m[\u001b[0m\u001b[0;34m'Angry'\u001b[0m\u001b[0;34m,\u001b[0m\u001b[0;34m'Happy'\u001b[0m\u001b[0;34m]\u001b[0m\u001b[0;34m,\u001b[0m \u001b[0mfilepath\u001b[0m\u001b[0;34m=\u001b[0m\u001b[0;34m'fer20131.csv'\u001b[0m\u001b[0;34m)\u001b[0m\u001b[0;34m:\u001b[0m\u001b[0;34m\u001b[0m\u001b[0m\n",
      "\u001b[0;31mNameError\u001b[0m: name 'classes' is not defined"
     ]
    }
   ],
   "source": [
    "from keras.utils.np_utils import to_categorical\n",
    "import pandas as pd\n",
    "import numpy as np\n",
    "import random\n",
    "import sys\n",
    "import warnings \n",
    "warnings.filterwarnings('ignore')\n",
    "\n",
    "import matplotlib.pyplot as plt\n",
    "%matplotlib inline\n",
    "\n",
    "import brewer2mpl\n",
    "\n",
    "\n",
    "def emotion_count(y_train, classes):\n",
    "    \"\"\"\n",
    "    The function re-classify picture with disgust label into angry label\n",
    "    \"\"\"\n",
    "    emo_classcount = {}\n",
    "    print ('Disgust classified as Angry')\n",
    "    \n",
    "################# re-label disgust label to angry\n",
    "#     y_train.loc[y_train == 1] = 0\n",
    "#     classes.remove('Disgust')\n",
    "################################################\n",
    "\n",
    "    for new_num, _class in enumerate(classes):\n",
    "        y_train.loc[(y_train == emotion[_class])] = new_num\n",
    "        class_count = sum(y_train == (new_num))\n",
    "        emo_classcount[_class] = (new_num, class_count)\n",
    "    return y_train.values, emo_classcount\n",
    "\n",
    "\n",
    "def load_data(usage='Training',classes=['Angry','Happy'], filepath='fer20131.csv'):\n",
    "    \"\"\"\n",
    "    The function load provided CSV dataset and further reshape, rescale the data for feeding\n",
    "    \"\"\"\n",
    "    df = pd.read_csv(filepath)\n",
    "    df = df[df.Usage == usage]\n",
    "    frames = []\n",
    "    classes.append('Disgust')\n",
    "    for _class in classes:\n",
    "        class_df = df[df['emotion'] == emotion[_class]]\n",
    "        frames.append(class_df)\n",
    "    data = pd.concat(frames, axis=0)\n",
    "    rows = random.sample(list(data.index), int(len(data)))\n",
    "    data = data.loc[rows]\n",
    "    x = list(data[\"pixels\"])\n",
    "    X = []\n",
    "    for i in range(len(x)):\n",
    "        each_pixel = [int(num) for num in x[i].split()]\n",
    "        \n",
    "        X.append(each_pixel)\n",
    "################ reshape into 48*48*1 and rescale\n",
    "#     X = np.array(X)\n",
    "#     X = X.reshape(X.shape[0], 48, 48,1)\n",
    "#     X = X.astype(\"float32\")\n",
    "#     X /= 255\n",
    "#################################################    \n",
    "    y_train, new_dict = emotion_count(data.emotion, classes)\n",
    "    y_train = to_categorical(y_train)\n",
    "    return X, y_train"
   ]
  },
  {
   "cell_type": "code",
   "execution_count": 4,
   "metadata": {},
   "outputs": [
    {
     "name": "stdout",
     "output_type": "stream",
     "text": [
      "['Angry', 'Fear', 'Happy', 'Sad', 'Surprise', 'Neutral', 'Disgust']\n",
      "Disgust classified as Angry\n"
     ]
    }
   ],
   "source": [
    "emotion = {'Angry': 0, 'Disgust': 1, 'Fear': 2, 'Happy': 3,\n",
    "           'Sad': 4, 'Surprise': 5, 'Neutral': 6}\n",
    "emo     = ['Angry', 'Fear', 'Happy',\n",
    "           'Sad', 'Surprise', 'Neutral']\n",
    "\n",
    "########## we have three sets of data: train, test, validation\n",
    "### Hint: find x_train, y_train, x_val, y_val, x_test, y_test\n",
    "### using load_data function\n",
    "#X_test, y_test = load_data(classes=emo,usage='PrivateTest')\n",
    "\n",
    "# X_train, y_train = load_data(classes=emo,usage= 'Training')\n",
    "\n",
    "# X_val,y_val = load_data(classes=emo,usage= 'PublicTest')"
   ]
  },
  {
   "cell_type": "code",
   "execution_count": 3,
   "metadata": {},
   "outputs": [
    {
     "ename": "NameError",
     "evalue": "name 'X_test' is not defined",
     "output_type": "error",
     "traceback": [
      "\u001b[0;31m---------------------------------------------------------------------------\u001b[0m",
      "\u001b[0;31mNameError\u001b[0m                                 Traceback (most recent call last)",
      "\u001b[0;32m<ipython-input-3-7973438f18be>\u001b[0m in \u001b[0;36m<module>\u001b[0;34m()\u001b[0m\n\u001b[1;32m      5\u001b[0m     \u001b[0mnp\u001b[0m\u001b[0;34m.\u001b[0m\u001b[0msave\u001b[0m\u001b[0;34m(\u001b[0m \u001b[0;34m'X_test'\u001b[0m \u001b[0;34m+\u001b[0m \u001b[0mfname\u001b[0m\u001b[0;34m,\u001b[0m \u001b[0mX_test\u001b[0m\u001b[0;34m)\u001b[0m\u001b[0;34m\u001b[0m\u001b[0m\n\u001b[1;32m      6\u001b[0m     \u001b[0mnp\u001b[0m\u001b[0;34m.\u001b[0m\u001b[0msave\u001b[0m\u001b[0;34m(\u001b[0m \u001b[0;34m'y_test'\u001b[0m \u001b[0;34m+\u001b[0m \u001b[0mfname\u001b[0m\u001b[0;34m,\u001b[0m \u001b[0my_test\u001b[0m\u001b[0;34m)\u001b[0m\u001b[0;34m\u001b[0m\u001b[0m\n\u001b[0;32m----> 7\u001b[0;31m \u001b[0msave_data\u001b[0m\u001b[0;34m(\u001b[0m\u001b[0mX_test\u001b[0m\u001b[0;34m,\u001b[0m \u001b[0my_test\u001b[0m\u001b[0;34m,\u001b[0m\u001b[0;34m\"_privatetest6_100pct\"\u001b[0m\u001b[0;34m)\u001b[0m\u001b[0;34m\u001b[0m\u001b[0m\n\u001b[0m\u001b[1;32m      8\u001b[0m \u001b[0mX_fname\u001b[0m \u001b[0;34m=\u001b[0m \u001b[0;34m'X_test_privatetest6_100pct.npy'\u001b[0m\u001b[0;34m\u001b[0m\u001b[0m\n\u001b[1;32m      9\u001b[0m \u001b[0my_fname\u001b[0m \u001b[0;34m=\u001b[0m \u001b[0;34m'y_test_privatetest6_100pct.npy'\u001b[0m\u001b[0;34m\u001b[0m\u001b[0m\n",
      "\u001b[0;31mNameError\u001b[0m: name 'X_test' is not defined"
     ]
    }
   ],
   "source": [
    "def save_data(X_test, y_test, fname=''):\n",
    "    \"\"\"\n",
    "    The function stores loaded data into numpy form for further processing\n",
    "    \"\"\"\n",
    "    np.save( 'X_test' + fname, X_test)\n",
    "    np.save( 'y_test' + fname, y_test)\n",
    "save_data(X_test, y_test,\"_privatetest6_100pct\")\n",
    "X_fname = 'X_test_privatetest6_100pct.npy'\n",
    "y_fname = 'y_test_privatetest6_100pct.npy'\n",
    "###################### load images and labels in X and y varibles\n",
    "# X = np.load(X_fname)\n",
    "# y = np.load(y_fname)\n",
    "#################################################################\n",
    "print ('Private test set')\n",
    "y_labels = [np.argmax(lst) for lst in y]\n",
    "counts = np.bincount(y_labels)\n",
    "labels = ['angry', 'fear', 'happy', 'sad', 'surprise', 'neutral']\n",
    "print (zip(labels, counts))"
   ]
  },
  {
   "cell_type": "code",
   "execution_count": null,
   "metadata": {},
   "outputs": [],
   "source": [
    "print(y)"
   ]
  },
  {
   "cell_type": "code",
   "execution_count": null,
   "metadata": {},
   "outputs": [],
   "source": [
    "def overview(start, end, X):\n",
    "    ######### add related label for each image\n",
    "\n",
    "#     Label_y = list()\n",
    "#     for i in y:\n",
    "#         Label_y.append(emo[i])\n",
    "\n",
    "    \"\"\"\n",
    "    The function is used to plot first several pictures for overviewing inputs format\n",
    "    \"\"\"\n",
    "    fig = plt.figure(figsize=(20,20))\n",
    "    for i in range(start, end+1):\n",
    "        input_img = X[i:(i+1),:,:,:]\n",
    "        ax = fig.add_subplot(16,12,i+1)\n",
    "        ax.imshow(input_img[0,:,:,0], cmap=plt.cm.gray)\n",
    "        # ax.set_title(Label_y[i])\n",
    "        emo.loc[y == 1] \n",
    "        \n",
    "        \n",
    "        plt.xticks(np.array([]))\n",
    "        plt.yticks(np.array([]))\n",
    "        plt.tight_layout()\n",
    "    plt.show()\n",
    "overview(0,191, X)"
   ]
  },
  {
   "cell_type": "code",
   "execution_count": null,
   "metadata": {},
   "outputs": [],
   "source": [
    "######################### choose one image and print its size and display it\n",
    "# input_img = X[6:7,:,:,:] \n",
    "# print (input_img.shape)\n",
    "# plt.imshow(input_img[0,:,:,0], cmap='gray')\n",
    "# plt.show()"
   ]
  },
  {
   "cell_type": "code",
   "execution_count": null,
   "metadata": {},
   "outputs": [],
   "source": []
  }
 ],
 "metadata": {
  "kernelspec": {
   "display_name": "Python 3",
   "language": "python",
   "name": "python3"
  },
  "language_info": {
   "codemirror_mode": {
    "name": "ipython",
    "version": 3
   },
   "file_extension": ".py",
   "mimetype": "text/x-python",
   "name": "python",
   "nbconvert_exporter": "python",
   "pygments_lexer": "ipython3",
   "version": "3.6.5"
  }
 },
 "nbformat": 4,
 "nbformat_minor": 2
}
